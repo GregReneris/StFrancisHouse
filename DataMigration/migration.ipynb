{
 "cells": [
  {
   "cell_type": "code",
   "execution_count": 131,
   "metadata": {},
   "outputs": [],
   "source": [
    "import pandas as pd\n",
    "import numpy as np"
   ]
  },
  {
   "cell_type": "code",
   "execution_count": 186,
   "metadata": {},
   "outputs": [],
   "source": [
    "clientdf = pd.read_json('original_data/Clients.json')\n",
    "assistancedf = pd.read_json('original_data/Assistances.json')\n",
    "\n",
    "clientdf = (clientdf\n",
    "                .drop(['LastName, FirstName MI', '#inFamily'], axis=1)\n",
    "                .assign(Gender=np.nan)\n",
    "                .assign(Race=np.nan)\n",
    "                .assign(Warning=np.nan)\n",
    ")\n",
    "\n",
    "\n",
    "result = pd.merge(clientdf, assistancedf, on='ClientID')\n",
    "result = (result\n",
    "            .set_index(['ClientID', 'AssistanceID'])\n",
    "            .assign(BoyAge=lambda df: df['BoyAge'].astype(str))\n",
    "            .assign(GirlAge=lambda df: df['GirlAge'].astype(str))\n",
    "        )\n",
    "result[['BoyAge', 'GirlAge']] = result[['BoyAge', 'GirlAge']].astype(str)"
   ]
  },
  {
   "cell_type": "code",
   "execution_count": 134,
   "metadata": {},
   "outputs": [],
   "source": [
    "clientset = set(clientdf['ClientID'])\n",
    "assistanceset = set(assistancedf['ClientID'])\n",
    "missing_assistances = assistancedf.loc[assistancedf['ClientID'].isin(assistanceset.difference(clientset))]\n",
    "missing_clients = clientdf.loc[clientdf['ClientID'].isin(clientset.difference(assistanceset))]"
   ]
  },
  {
   "cell_type": "code",
   "execution_count": 135,
   "metadata": {},
   "outputs": [],
   "source": [
    "familydf = result.groupby('ClientID').agg(\n",
    "    BoyAge = pd.NamedAgg(column='BoyAge', aggfunc=lambda x: max(x, key=len)),\n",
    "    GirlAge = pd.NamedAgg(column='GirlAge', aggfunc=lambda x: max(x, key=len))\n",
    ")\n",
    "familydf = (familydf\n",
    "                .loc[(familydf['BoyAge'] != 'nan') | (familydf['GirlAge'] != 'nan')]\n",
    "                .assign(NumBoys=lambda df: df['BoyAge'].str.split('-|,').str.len())\n",
    "                .assign(NumGirls=lambda df: df['GirlAge'].str.split('-|,').str.len())\n",
    ")\n",
    "familydf.loc[familydf['BoyAge'] == 'nan', 'NumBoys'] = 0\n",
    "familydf.loc[familydf['GirlAge'] == 'nan', 'NumGirls'] = 0\n",
    "familydf['NumKids'] = familydf['NumBoys'] + familydf['NumGirls']\n",
    "\n",
    "#familydf = familydf[['BoyAge', 'GirlAge', 'NumKids']]\n",
    "#familydf.reset_index().to_json('Family.json', orient='records')"
   ]
  },
  {
   "cell_type": "code",
   "execution_count": 155,
   "metadata": {},
   "outputs": [],
   "source": [
    "warningmap = {1135: 'STOLE EILEENS PURSE IN THE CHILDRENS ROOM - BANNED FROM FRANCES HOUSE - PER K.',\n",
    "  44311: 'emergency banned',\n",
    "  37842: 'Banned',\n",
    "  52332: 'BANNED\\r\\nLaura Young',\n",
    "  3883: 'BANNED!!!!\\r\\nHAD TO CALL POLICE ON HER',\n",
    "  3141: 'Banned until further notice!!!!!!!!!! IF REFUSES TO LEAVE.:CALL 911',\n",
    "  22413: 'new client\\r\\nalso uses randy johnson and birthdate of 4-9-63 banned not elibile to return until dec 08',\n",
    "  22431: 'AGGRESSIVE AND THREATENING - PERMANENTLY BANNED - PER STEPHANIE',\n",
    "  4959: 'NASTY BELLIGERANT;STARTED FIGHT AND WOULD NOT LEAVE POLICE CAME: BANNED FOR A',\n",
    "  13608: 'MUST HAVE ID NO EXCEPTIONS!! goes by Gerald Threet\\r\\n& F Phillip Threet same birthdate check by bday came in may and july under different names! *BANNED FOR 6 MONTHS, SEE DIRECTOR IF HE GIVES ANYONE A BAD TIME.',\n",
    "  377: 'CANNOT COME IN IF SMELLS OF ALCOHOL!!', \n",
    "  20824: 'The police are looking for this guy.  Give him what he wants and notify Alan or Stepahnie.',\n",
    "  20541: 'also uses last name raymundo (raimundo)'\n",
    "}\n",
    "\n",
    "clientdf = result.reset_index().groupby('ClientID').agg(\n",
    "                AssistanceID = pd.NamedAgg(column='AssistanceID', aggfunc=max)\n",
    ")\n",
    "\n",
    "clientdf = (clientdf\n",
    "                .reset_index()\n",
    "                .set_index(['ClientID', 'AssistanceID'])\n",
    "                .join(result)\n",
    "                .reset_index()\n",
    "                .drop(columns=['MenClothes', 'MQuant', 'WomenClothes', \n",
    "                'WQuant', 'ChildrenClothes', 'CQuant','Soap', 'ShampooConditioner', \n",
    "                'Lotion', 'Razor', 'Toothpaste', 'Toothbrush', 'Other', 'BoyAge', \n",
    "                'GirlAge', 'Furniture', 'Household', 'Director', 'New', 'Date'])\n",
    "                .rename(columns={'AssistanceID':'LastAssistanceID'})\n",
    ")\n",
    "\n",
    "clientdf['Warning'] = clientdf.ClientID.map(warningmap)\n",
    "#clientdf.to_json('Clients.json', orient='records')"
   ]
  },
  {
   "cell_type": "code",
   "execution_count": 180,
   "metadata": {},
   "outputs": [],
   "source": [
    "transaction = assistancedf\n",
    "transaction = (transaction\n",
    "                .drop(columns=['BoyAge', 'GirlAge', 'New', 'Date', 'ClientID'])\n",
    "                .fillna('')\n",
    "                .assign(Other=lambda df: df['Other'] + df['Furniture'] + df['Household'])\n",
    "                .drop(columns=['Furniture', 'Household'])\n",
    ")\n",
    "transaction = pd.melt(transaction, id_vars=['AssistanceID'], value_vars=['MQuant', 'WQuant', 'CQuant', 'Soap',\n",
    "       'ShampooConditioner', 'Lotion', 'Razor', 'Toothpaste', 'Toothbrush',\n",
    "       'Other', 'Director'])\n",
    "transaction = (transaction\n",
    "                .loc[(transaction['value'] != 0.0) & (transaction['value'].notna()) & (transaction['value'] != '')]\n",
    "                .assign(note=lambda df: df['value'])\n",
    "                .reset_index(drop=True)\n",
    "                .assign(RequestQuantity=1)\n",
    "                .rename(columns={'variable':'Item', 'value':'ReceivedQuantity', 'note':'Note'})\n",
    ")\n",
    "transaction.loc[transaction['Item'].isin({'MQuant', 'WQuant', 'CQuant', 'Soap',\n",
    "       'ShampooConditioner', 'Lotion', 'Razor', 'Toothpaste', 'Toothbrush'}), 'Note'] = ''\n",
    "transaction.loc[transaction['Item'].isin({'MQuant', 'WQuant', 'CQuant'}), 'RequestQuantity'] = 15\n",
    "transaction.loc[transaction['Item'].isin({'Other', 'Director'}), 'ReceivedQuantity'] = 1\n",
    "\n",
    "requests = transaction[['AssistanceID', 'Item', 'RequestQuantity', 'Note']]\n",
    "receipts = transaction[['AssistanceID', 'Item', 'ReceivedQuantity', 'Note']]\n",
    "\n",
    "#requests.to_json('Requests.json', orient='records')\n",
    "#receipts.to_json('Receipts.json', orient='records')"
   ]
  },
  {
   "cell_type": "code",
   "execution_count": 187,
   "metadata": {},
   "outputs": [],
   "source": [
    "assistancedf = (assistancedf\n",
    "                .drop(columns=['MenClothes', 'MQuant', 'WomenClothes', \n",
    "                'WQuant', 'ChildrenClothes', 'CQuant', 'Soap', 'ShampooConditioner', \n",
    "                'Lotion', 'Razor', 'Toothpaste', 'Toothbrush', 'Other', 'BoyAge', \n",
    "                'GirlAge', 'Furniture', 'Household', 'Director', 'New'])\n",
    "                .assign(LastBackPackDate=lambda df: df['Date'])\n",
    "                .assign(LastSleepingBagDate=lambda df: df['Date'])\n",
    ")\n",
    "#assistancedf.to_json('Assistances.json', orient='records')"
   ]
  }
 ],
 "metadata": {
  "kernelspec": {
   "display_name": "Python 3.10.4 ('vsenv')",
   "language": "python",
   "name": "python3"
  },
  "language_info": {
   "codemirror_mode": {
    "name": "ipython",
    "version": 3
   },
   "file_extension": ".py",
   "mimetype": "text/x-python",
   "name": "python",
   "nbconvert_exporter": "python",
   "pygments_lexer": "ipython3",
   "version": "3.10.4"
  },
  "orig_nbformat": 4,
  "vscode": {
   "interpreter": {
    "hash": "965703974363da09377a6c98e3794db51e4c246da2bbe586534ebc57c909699b"
   }
  }
 },
 "nbformat": 4,
 "nbformat_minor": 2
}
